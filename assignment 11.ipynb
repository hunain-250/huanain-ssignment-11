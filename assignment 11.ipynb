{
 "cells": [
  {
   "cell_type": "code",
   "execution_count": 1,
   "metadata": {},
   "outputs": [
    {
     "name": "stdout",
     "output_type": "stream",
     "text": [
      "Q 1 ) what is the capital of pakistan:\n",
      "A)karchi\n",
      "B)islamabad\n",
      "C)lahore\n",
      "D)quetta\n",
      "Enter option :b\n",
      "Your Answer Is Correct\n",
      "Q 2 ) When pakistan came into being:\n",
      "A)1947\n",
      "B) 1980\n",
      "C)2000\n",
      "D)1990\n",
      "Enter option :a\n",
      "Your Answer Is Correct\n",
      "Q 3 ) the biggest river of pakistan:\n",
      "A)ravi\n",
      "B)river indus\n",
      "C)amazon\n",
      "D)nile\n",
      "Enter option :d\n",
      "Your Answer Is Correct\n",
      "Q 4 ) which is the biggest province of pakistan population wise:\n",
      "A)sindh\n",
      "B)punjab\n",
      "C)balochistan\n",
      "D)K.P.K\n",
      "Enter option :b\n",
      "Your Answer Is Correct\n",
      "Your Total Quiz Score : 4\n"
     ]
    }
   ],
   "source": [
    "quiz=[\n",
    "    {\n",
    "        \n",
    "        \"Q )\" : \"what is the capital of pakistan:\",\n",
    "        \"OP \" : [\"A)karchi\", \"B)islamabad\", \"C)lahore\", \"D)quetta\",],\n",
    "        \"ANS\": \"b\"},\n",
    "    {\n",
    "        \"Q )\": \"When pakistan came into being:\",\n",
    "        \"OP \" : [\"A)1947\", \"B) 1980\", \"C)2000\", \"D)1990\",],\n",
    "        \"ANS\": \"a\"\n",
    "        \n",
    "    },\n",
    "    {\n",
    "        \"Q )\" : \"the biggest river of pakistan:\",\n",
    "        \"OP \" : [\"A)ravi\", \"B)river indus\", \"C)amazon\", \"D)nile\",],\n",
    "        \"ANS\": \"d\"\n",
    "        \n",
    "    },\n",
    "    {\n",
    "        \"Q )\" : \"which is the biggest province of pakistan population wise:\",\n",
    "        \"OP \" : [\"A)sindh\", \"B)punjab\", \"C)balochistan\", \"D)K.P.K\",],\n",
    "        \"ANS\": \"b\"\n",
    "        \n",
    "    },\n",
    "    \n",
    "    \n",
    "    \n",
    "]\n",
    "mark=0\n",
    "i=0\n",
    "for question in quiz:\n",
    "    print(\"Q\",i+1,\")\",question[\"Q )\"])\n",
    "    print(question[\"OP \"] [0])\n",
    "    print(question[\"OP \"] [1])\n",
    "    print(question[\"OP \"] [2])\n",
    "    print(question[\"OP \"] [3])\n",
    "    ans=input(\"Enter option :\")\n",
    "    i=i+1\n",
    "    \n",
    "    if (ans.lower()==question[\"ANS\"]):\n",
    "        print(\"Your Answer Is Correct\")\n",
    "        mark=mark+1\n",
    "    else:\n",
    "        print(\"Your Answer Is Incorrect\")\n",
    "print(\"Your Total Quiz Score :\",mark)\n",
    "    \n"
   ]
  },
  {
   "cell_type": "code",
   "execution_count": null,
   "metadata": {},
   "outputs": [],
   "source": []
  },
  {
   "cell_type": "code",
   "execution_count": null,
   "metadata": {},
   "outputs": [],
   "source": []
  },
  {
   "cell_type": "code",
   "execution_count": null,
   "metadata": {},
   "outputs": [],
   "source": []
  }
 ],
 "metadata": {
  "kernelspec": {
   "display_name": "Python 3",
   "language": "python",
   "name": "python3"
  },
  "language_info": {
   "codemirror_mode": {
    "name": "ipython",
    "version": 3
   },
   "file_extension": ".py",
   "mimetype": "text/x-python",
   "name": "python",
   "nbconvert_exporter": "python",
   "pygments_lexer": "ipython3",
   "version": "3.7.6"
  }
 },
 "nbformat": 4,
 "nbformat_minor": 4
}
